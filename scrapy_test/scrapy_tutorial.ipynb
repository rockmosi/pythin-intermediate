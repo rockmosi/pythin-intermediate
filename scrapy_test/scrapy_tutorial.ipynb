{
  "nbformat": 4,
  "nbformat_minor": 0,
  "metadata": {
    "colab": {
      "name": "scrapy_tutorial.ipynb",
      "provenance": [],
      "authorship_tag": "ABX9TyNNkPWwC3r1N+KSiS3KsY5k",
      "include_colab_link": true
    },
    "kernelspec": {
      "name": "python3",
      "display_name": "Python 3"
    }
  },
  "cells": [
    {
      "cell_type": "markdown",
      "metadata": {
        "id": "view-in-github",
        "colab_type": "text"
      },
      "source": [
        "<a href=\"https://colab.research.google.com/github/rockmosi/python-intermediate/blob/master/scrapy_test/scrapy_tutorial.ipynb\" target=\"_parent\"><img src=\"https://colab.research.google.com/assets/colab-badge.svg\" alt=\"Open In Colab\"/></a>"
      ]
    },
    {
      "cell_type": "code",
      "metadata": {
        "id": "jGoKX-LsjmVw",
        "colab_type": "code",
        "colab": {}
      },
      "source": [
        "# created by rock\n",
        "# ref: https://docs.scrapy.org/en/latest/intro/tutorial.html\n",
        "\n",
        "import scrapy"
      ],
      "execution_count": 0,
      "outputs": []
    }
  ]
}