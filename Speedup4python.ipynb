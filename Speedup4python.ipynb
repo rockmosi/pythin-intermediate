{
  "nbformat": 4,
  "nbformat_minor": 0,
  "metadata": {
    "colab": {
      "name": "Speedup4python.ipynb",
      "provenance": [],
      "authorship_tag": "ABX9TyO2FkuURvTTUptwO4CF5edg",
      "include_colab_link": true
    },
    "kernelspec": {
      "name": "python3",
      "display_name": "Python 3"
    },
    "language_info": {
      "name": "python"
    }
  },
  "cells": [
    {
      "cell_type": "markdown",
      "metadata": {
        "id": "view-in-github",
        "colab_type": "text"
      },
      "source": [
        "<a href=\"https://colab.research.google.com/github/rockmosi/python-intermediate/blob/master/Speedup4python.ipynb\" target=\"_parent\"><img src=\"https://colab.research.google.com/assets/colab-badge.svg\" alt=\"Open In Colab\"/></a>"
      ]
    },
    {
      "cell_type": "markdown",
      "metadata": {
        "id": "e9cGXzkKqV7e"
      },
      "source": [
        "## list comprehension"
      ]
    },
    {
      "cell_type": "code",
      "metadata": {
        "id": "WrqxaQYOqbvB"
      },
      "source": [
        "import time"
      ],
      "execution_count": 1,
      "outputs": []
    },
    {
      "cell_type": "code",
      "metadata": {
        "colab": {
          "base_uri": "https://localhost:8080/"
        },
        "id": "_HHyuA9hqI3z",
        "outputId": "66ec8f7d-bd33-4e52-90a3-ed4b2d6bb2ff"
      },
      "source": [
        "start = time.time()\n",
        "\n",
        "L = []\n",
        "for i in range (1, 1000):\n",
        "    if i%3 == 0:\n",
        "        L.append (i)\n",
        "\n",
        "print(time.time() - start)\n",
        "\n"
      ],
      "execution_count": 2,
      "outputs": [
        {
          "output_type": "stream",
          "name": "stdout",
          "text": [
            "0.00036978721618652344\n"
          ]
        }
      ]
    },
    {
      "cell_type": "code",
      "metadata": {
        "colab": {
          "base_uri": "https://localhost:8080/"
        },
        "id": "R4QA5JavqwOj",
        "outputId": "cfd05449-5092-455d-d596-b300be921d32"
      },
      "source": [
        "start = time.time()\n",
        "\n",
        "L = [i for i in range (1, 1000) if i%3 == 0]\n",
        "\n",
        "print(time.time() - start)"
      ],
      "execution_count": 3,
      "outputs": [
        {
          "output_type": "stream",
          "name": "stdout",
          "text": [
            "0.00017690658569335938\n"
          ]
        }
      ]
    },
    {
      "cell_type": "markdown",
      "metadata": {
        "id": "yypJABDyq3Aw"
      },
      "source": [
        "## multiple assignments"
      ]
    },
    {
      "cell_type": "code",
      "metadata": {
        "colab": {
          "base_uri": "https://localhost:8080/"
        },
        "id": "nz547qpOq2j1",
        "outputId": "48fac8e4-11d4-474c-cf8f-b0de547380db"
      },
      "source": [
        "start = time.time()\n",
        "a = 2\n",
        "b = 3\n",
        "c = 5\n",
        "d = 7\n",
        "print(time.time() - start)"
      ],
      "execution_count": 4,
      "outputs": [
        {
          "output_type": "stream",
          "name": "stdout",
          "text": [
            "8.344650268554688e-05\n"
          ]
        }
      ]
    },
    {
      "cell_type": "code",
      "metadata": {
        "colab": {
          "base_uri": "https://localhost:8080/"
        },
        "id": "z_t5WRP6q8Zr",
        "outputId": "08977c67-ad39-4c28-f0b7-0e940901e7a9"
      },
      "source": [
        "start = time.time()\n",
        "\n",
        "a, b, c, d = 2, 3, 5, 7\n",
        "\n",
        "print(time.time() - start)"
      ],
      "execution_count": 5,
      "outputs": [
        {
          "output_type": "stream",
          "name": "stdout",
          "text": [
            "0.00015425682067871094\n"
          ]
        }
      ]
    },
    {
      "cell_type": "markdown",
      "metadata": {
        "id": "MmHaVnoGsY9C"
      },
      "source": [
        "## Concatenate strings with join"
      ]
    },
    {
      "cell_type": "code",
      "metadata": {
        "colab": {
          "base_uri": "https://localhost:8080/"
        },
        "id": "WDZIib4asZaw",
        "outputId": "982f3257-9989-43de-8a10-19ca4aa23237"
      },
      "source": [
        "start = time.time()\n",
        "concatenatedString = \"Programming \" + \"is \" + \"fun.\"\n",
        "print(time.time() - start)"
      ],
      "execution_count": 8,
      "outputs": [
        {
          "output_type": "stream",
          "name": "stdout",
          "text": [
            "7.867813110351562e-05\n"
          ]
        }
      ]
    },
    {
      "cell_type": "code",
      "metadata": {
        "colab": {
          "base_uri": "https://localhost:8080/"
        },
        "id": "pvWSyWQ0sf0u",
        "outputId": "2601fa21-06d7-469e-d162-2881abb2d2e1"
      },
      "source": [
        "start = time.time()\n",
        "concatenatedString = \" \".join ([\"Programming\", \"is\", \"fun.\"])\n",
        "print(time.time() - start)"
      ],
      "execution_count": 9,
      "outputs": [
        {
          "output_type": "stream",
          "name": "stdout",
          "text": [
            "0.00010061264038085938\n"
          ]
        }
      ]
    },
    {
      "cell_type": "markdown",
      "metadata": {
        "id": "kgsx4I34qUNV"
      },
      "source": [
        "## Do not use dot operation"
      ]
    },
    {
      "cell_type": "code",
      "metadata": {
        "colab": {
          "base_uri": "https://localhost:8080/"
        },
        "id": "JBKPv_QHtDEh",
        "outputId": "40ef4a92-e61b-472c-e825-28f8ccc5ff01"
      },
      "source": [
        "start = time.time()\n",
        "import math\n",
        "val = math.sqrt(60)\n",
        "print(time.time() - start)"
      ],
      "execution_count": 14,
      "outputs": [
        {
          "output_type": "stream",
          "name": "stdout",
          "text": [
            "0.00010228157043457031\n"
          ]
        }
      ]
    },
    {
      "cell_type": "code",
      "metadata": {
        "colab": {
          "base_uri": "https://localhost:8080/"
        },
        "id": "ZszDprd7tEz2",
        "outputId": "53537deb-1709-4058-ef38-e73a36fa05a9"
      },
      "source": [
        "# Because when you call a function using . (dot) it first calls __getattribute()__ or __getattr()__ which then use dictionary operation which costs time. So, try using from module import function.\n",
        "start = time.time()\n",
        "from math import sqrt\n",
        "val = sqrt(60)\n",
        "print(time.time() - start)"
      ],
      "execution_count": 15,
      "outputs": [
        {
          "output_type": "stream",
          "name": "stdout",
          "text": [
            "0.00011587142944335938\n"
          ]
        }
      ]
    }
  ]
}