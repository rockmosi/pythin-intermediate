{
  "nbformat": 4,
  "nbformat_minor": 0,
  "metadata": {
    "colab": {
      "name": "Speedup4python.ipynb",
      "provenance": [],
      "authorship_tag": "ABX9TyOWMq+Niy5RiUKDLRecabvw",
      "include_colab_link": true
    },
    "kernelspec": {
      "name": "python3",
      "display_name": "Python 3"
    },
    "language_info": {
      "name": "python"
    }
  },
  "cells": [
    {
      "cell_type": "markdown",
      "metadata": {
        "id": "view-in-github",
        "colab_type": "text"
      },
      "source": [
        "<a href=\"https://colab.research.google.com/github/rockmosi/python-intermediate/blob/master/Speedup4python.ipynb\" target=\"_parent\"><img src=\"https://colab.research.google.com/assets/colab-badge.svg\" alt=\"Open In Colab\"/></a>"
      ]
    },
    {
      "cell_type": "markdown",
      "metadata": {
        "id": "e9cGXzkKqV7e"
      },
      "source": [
        "## list comprehension"
      ]
    },
    {
      "cell_type": "code",
      "metadata": {
        "id": "WrqxaQYOqbvB"
      },
      "source": [
        "import time"
      ],
      "execution_count": 3,
      "outputs": []
    },
    {
      "cell_type": "code",
      "metadata": {
        "colab": {
          "base_uri": "https://localhost:8080/"
        },
        "id": "_HHyuA9hqI3z",
        "outputId": "fdcc9f12-f167-42f1-d850-96bd80c13815"
      },
      "source": [
        "start = time.time()\n",
        "\n",
        "L = []\n",
        "for i in range (1, 1000):\n",
        "    if i%3 == 0:\n",
        "        L.append (i)\n",
        "\n",
        "print(time.time() - start)\n",
        "\n"
      ],
      "execution_count": 5,
      "outputs": [
        {
          "output_type": "stream",
          "name": "stdout",
          "text": [
            "0.0007183551788330078\n"
          ]
        }
      ]
    },
    {
      "cell_type": "code",
      "metadata": {
        "colab": {
          "base_uri": "https://localhost:8080/"
        },
        "id": "R4QA5JavqwOj",
        "outputId": "824e0333-f4f8-4cb7-f84f-65a12331a663"
      },
      "source": [
        "start = time.time()\n",
        "\n",
        "L = [i for i in range (1, 1000) if i%3 == 0]\n",
        "\n",
        "print(time.time() - start)"
      ],
      "execution_count": 6,
      "outputs": [
        {
          "output_type": "stream",
          "name": "stdout",
          "text": [
            "0.000263214111328125\n"
          ]
        }
      ]
    },
    {
      "cell_type": "markdown",
      "metadata": {
        "id": "yypJABDyq3Aw"
      },
      "source": [
        "## multiple assignments"
      ]
    },
    {
      "cell_type": "code",
      "metadata": {
        "colab": {
          "base_uri": "https://localhost:8080/"
        },
        "id": "nz547qpOq2j1",
        "outputId": "df379386-84df-4379-b11f-2281a2fdff5e"
      },
      "source": [
        "start = time.time()\n",
        "a = 2\n",
        "b = 3\n",
        "c = 5\n",
        "d = 7\n",
        "print(time.time() - start)"
      ],
      "execution_count": 7,
      "outputs": [
        {
          "output_type": "stream",
          "name": "stdout",
          "text": [
            "0.00019478797912597656\n"
          ]
        }
      ]
    },
    {
      "cell_type": "code",
      "metadata": {
        "colab": {
          "base_uri": "https://localhost:8080/"
        },
        "id": "z_t5WRP6q8Zr",
        "outputId": "e79d3b01-b08f-49c4-e411-27379f315fc5"
      },
      "source": [
        "start = time.time()\n",
        "\n",
        "a, b, c, d = 2, 3, 5, 7\n",
        "\n",
        "print(time.time() - start)"
      ],
      "execution_count": 8,
      "outputs": [
        {
          "output_type": "stream",
          "name": "stdout",
          "text": [
            "6.031990051269531e-05\n"
          ]
        }
      ]
    },
    {
      "cell_type": "markdown",
      "metadata": {
        "id": "kgsx4I34qUNV"
      },
      "source": [
        ""
      ]
    }
  ]
}