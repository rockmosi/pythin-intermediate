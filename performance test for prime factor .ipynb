{
  "nbformat": 4,
  "nbformat_minor": 0,
  "metadata": {
    "colab": {
      "name": "Untitled4.ipynb",
      "provenance": [],
      "collapsed_sections": [],
      "authorship_tag": "ABX9TyPP8iKqB/klQLrTJfvO/ddq",
      "include_colab_link": true
    },
    "kernelspec": {
      "name": "python3",
      "display_name": "Python 3"
    }
  },
  "cells": [
    {
      "cell_type": "markdown",
      "metadata": {
        "id": "view-in-github",
        "colab_type": "text"
      },
      "source": [
        "<a href=\"https://colab.research.google.com/github/rockmosi/python-intermediate/blob/master/performance%20test%20for%20prime%20factor%20.ipynb\" target=\"_parent\"><img src=\"https://colab.research.google.com/assets/colab-badge.svg\" alt=\"Open In Colab\"/></a>"
      ]
    },
    {
      "cell_type": "code",
      "metadata": {
        "id": "7vhfChFARdzy",
        "colab_type": "code",
        "colab": {
          "base_uri": "https://localhost:8080/",
          "height": 125
        },
        "outputId": "33ae1a22-8e57-41a5-8376-c33881f9c5d8"
      },
      "source": [
        "#ref: https://stackoverflow.com/questions/15347174/python-finding-prime-factors\n",
        "%%time\n",
        "import time\n",
        "maxvalue = 0\n",
        "final_time = float()\n",
        "\n",
        "def largest_prime_factor(n):\n",
        "    global final_time\n",
        "    start = time.perf_counter()\n",
        "    i = 2\n",
        "    num = int((n**(1/2)))\n",
        "\n",
        "    if n == 1:\n",
        "        return n\n",
        "            \n",
        "    while num != i:\n",
        "        while n % i == 0:\n",
        "            maxvalue = i\n",
        "            n = n // i\n",
        "        i += 1\n",
        "    end = time.perf_counter() - start\n",
        "    final_time = end\n",
        "    return n\n",
        "    \n",
        "\n",
        "def largest_prime_factor2(n):\n",
        "    global final_time\n",
        "    start = time.perf_counter()\n",
        "    i = 2\n",
        "    while i * i <= n:\n",
        "        if n % i:\n",
        "            i += 1\n",
        "        else:\n",
        "            n //= i\n",
        "    \n",
        "    end = time.perf_counter() - start\n",
        "    final_time = end\n",
        "    return n\n",
        "\n",
        "result = largest_prime_factor(937283948193121)\n",
        "print(result)\n",
        "print(final_time)\n",
        "result = largest_prime_factor2(937283948193121)\n",
        "print(result)\n",
        "print(final_time)\n"
      ],
      "execution_count": 34,
      "outputs": [
        {
          "output_type": "stream",
          "text": [
            "5627676829\n",
            "4.700507081999831\n",
            "5627676829\n",
            "0.012479845000143541\n",
            "CPU times: user 4.7 s, sys: 1.98 ms, total: 4.7 s\n",
            "Wall time: 4.71 s\n"
          ],
          "name": "stdout"
        }
      ]
    }
  ]
}