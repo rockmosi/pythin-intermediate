{
  "nbformat": 4,
  "nbformat_minor": 0,
  "metadata": {
    "colab": {
      "name": "Data type.ipynb",
      "provenance": [],
      "authorship_tag": "ABX9TyNyTJIlVBA59clcnZf30+vm",
      "include_colab_link": true
    },
    "kernelspec": {
      "name": "python3",
      "display_name": "Python 3"
    }
  },
  "cells": [
    {
      "cell_type": "markdown",
      "metadata": {
        "id": "view-in-github",
        "colab_type": "text"
      },
      "source": [
        "<a href=\"https://colab.research.google.com/github/rockmosi/python-intermediate/blob/master/basic/Data_type.ipynb\" target=\"_parent\"><img src=\"https://colab.research.google.com/assets/colab-badge.svg\" alt=\"Open In Colab\"/></a>"
      ]
    },
    {
      "cell_type": "code",
      "metadata": {
        "id": "d4irgT61WsLX",
        "colab_type": "code",
        "colab": {}
      },
      "source": [
        "# Let's start"
      ],
      "execution_count": null,
      "outputs": []
    }
  ]
}