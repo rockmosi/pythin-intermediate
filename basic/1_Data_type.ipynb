{
  "nbformat": 4,
  "nbformat_minor": 0,
  "metadata": {
    "colab": {
      "name": "1-Data type.ipynb",
      "provenance": [],
      "authorship_tag": "ABX9TyO70rdSp6QS8WjC3M0ORk8l",
      "include_colab_link": true
    },
    "kernelspec": {
      "name": "python3",
      "display_name": "Python 3"
    }
  },
  "cells": [
    {
      "cell_type": "markdown",
      "metadata": {
        "id": "view-in-github",
        "colab_type": "text"
      },
      "source": [
        "<a href=\"https://colab.research.google.com/github/rockmosi/python-intermediate/blob/master/basic/1_Data_type.ipynb\" target=\"_parent\"><img src=\"https://colab.research.google.com/assets/colab-badge.svg\" alt=\"Open In Colab\"/></a>"
      ]
    },
    {
      "cell_type": "markdown",
      "metadata": {
        "id": "AQQs7Z36XLws",
        "colab_type": "text"
      },
      "source": [
        ""
      ]
    },
    {
      "cell_type": "markdown",
      "metadata": {
        "id": "Xlele2dsXM6i",
        "colab_type": "text"
      },
      "source": [
        "# Let's start for python begginer\n",
        "## more info check here\n",
        "### ref: https://wikidocs.net/book/1\n",
        "### ref: http://juehan.github.io/DiveIntoPython3_Korean_Translation/index.html"
      ]
    },
    {
      "cell_type": "code",
      "metadata": {
        "id": "d4irgT61WsLX",
        "colab_type": "code",
        "colab": {
          "base_uri": "https://localhost:8080/",
          "height": 35
        },
        "outputId": "d41315bc-7c2d-4295-9e34-21b927638c25"
      },
      "source": [
        "# print \"Hello world\" # python2\n",
        "print(\"Hello world\")"
      ],
      "execution_count": null,
      "outputs": [
        {
          "output_type": "stream",
          "text": [
            "Hello world\n"
          ],
          "name": "stdout"
        }
      ]
    },
    {
      "cell_type": "markdown",
      "metadata": {
        "id": "VQluXJ16mlzK",
        "colab_type": "text"
      },
      "source": [
        "## Variable\n",
        "### Reserved words"
      ]
    },
    {
      "cell_type": "code",
      "metadata": {
        "id": "oOUsjmwHmjs9",
        "colab_type": "code",
        "colab": {
          "base_uri": "https://localhost:8080/",
          "height": 35
        },
        "outputId": "1bc83f69-60d2-4f03-b562-b4e04440e8c4"
      },
      "source": [
        "x = 1           # assignment statement, x becomes 1, english expression\n",
        "x = x + 1       # assignment with expression\n",
        "print(x)        # print statement"
      ],
      "execution_count": 1,
      "outputs": [
        {
          "output_type": "stream",
          "text": [
            "2\n"
          ],
          "name": "stdout"
        }
      ]
    },
    {
      "cell_type": "markdown",
      "metadata": {
        "id": "0Lj2I945n-r3",
        "colab_type": "text"
      },
      "source": [
        "# Operators\n",
        "![image.png](data:image/png;base64,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)"
      ]
    },
    {
      "cell_type": "code",
      "metadata": {
        "id": "hZFNjIP8n9QJ",
        "colab_type": "code",
        "colab": {
          "base_uri": "https://localhost:8080/",
          "height": 35
        },
        "outputId": "adce024b-1c0b-4193-e869-1f7764875d50"
      },
      "source": [
        "# +\n",
        "# -\n",
        "# *\n",
        "# /\n",
        "# **\n",
        "# % remainder\n",
        "# more info\n",
        "# ref: https://www.techbeamers.com/python-operator-precedence-associativity/\n",
        "print( 2**3 )"
      ],
      "execution_count": 2,
      "outputs": [
        {
          "output_type": "stream",
          "text": [
            "8\n"
          ],
          "name": "stdout"
        }
      ]
    },
    {
      "cell_type": "markdown",
      "metadata": {
        "id": "PGtSu1wYozHD",
        "colab_type": "text"
      },
      "source": [
        "# Data type\n",
        "\n",
        "## type() return\n",
        "### int, float, str and other complex structure"
      ]
    },
    {
      "cell_type": "code",
      "metadata": {
        "id": "iYPa5NvjpA0x",
        "colab_type": "code",
        "colab": {
          "base_uri": "https://localhost:8080/",
          "height": 172
        },
        "outputId": "e894fb1e-6726-4919-f563-06cf9bf361d0"
      },
      "source": [
        "int(\"hello\")"
      ],
      "execution_count": 3,
      "outputs": [
        {
          "output_type": "error",
          "ename": "ValueError",
          "evalue": "ignored",
          "traceback": [
            "\u001b[0;31m---------------------------------------------------------------------------\u001b[0m",
            "\u001b[0;31mValueError\u001b[0m                                Traceback (most recent call last)",
            "\u001b[0;32m<ipython-input-3-a6f1987f81d0>\u001b[0m in \u001b[0;36m<module>\u001b[0;34m()\u001b[0m\n\u001b[0;32m----> 1\u001b[0;31m \u001b[0mint\u001b[0m\u001b[0;34m(\u001b[0m\u001b[0;34m\"hello\"\u001b[0m\u001b[0;34m)\u001b[0m\u001b[0;34m\u001b[0m\u001b[0;34m\u001b[0m\u001b[0m\n\u001b[0m",
            "\u001b[0;31mValueError\u001b[0m: invalid literal for int() with base 10: 'hello'"
          ]
        }
      ]
    },
    {
      "cell_type": "code",
      "metadata": {
        "id": "pj-YH_scpFuz",
        "colab_type": "code",
        "colab": {
          "base_uri": "https://localhost:8080/",
          "height": 35
        },
        "outputId": "9dcc5ec2-f252-49d7-91ff-b7978df74c5b"
      },
      "source": [
        "int(\"1234\")"
      ],
      "execution_count": 6,
      "outputs": [
        {
          "output_type": "execute_result",
          "data": {
            "text/plain": [
              "345.23"
            ]
          },
          "metadata": {
            "tags": []
          },
          "execution_count": 6
        }
      ]
    },
    {
      "cell_type": "code",
      "metadata": {
        "id": "3Gd-dilmpOLi",
        "colab_type": "code",
        "colab": {
          "base_uri": "https://localhost:8080/",
          "height": 35
        },
        "outputId": "7ece8d9d-73ca-4b44-e740-f3c6e7d34867"
      },
      "source": [
        "str(\"hello world\")"
      ],
      "execution_count": 7,
      "outputs": [
        {
          "output_type": "execute_result",
          "data": {
            "application/vnd.google.colaboratory.intrinsic": {
              "type": "string"
            },
            "text/plain": [
              "'hello world'"
            ]
          },
          "metadata": {
            "tags": []
          },
          "execution_count": 7
        }
      ]
    },
    {
      "cell_type": "code",
      "metadata": {
        "id": "iBLETzrlpPar",
        "colab_type": "code",
        "colab": {
          "base_uri": "https://localhost:8080/",
          "height": 35
        },
        "outputId": "26d49efc-3431-4411-8992-040be344006e"
      },
      "source": [
        "float(345.23)"
      ],
      "execution_count": 8,
      "outputs": [
        {
          "output_type": "execute_result",
          "data": {
            "text/plain": [
              "345.23"
            ]
          },
          "metadata": {
            "tags": []
          },
          "execution_count": 8
        }
      ]
    },
    {
      "cell_type": "markdown",
      "metadata": {
        "id": "ALkfPTxQpknh",
        "colab_type": "text"
      },
      "source": [
        "# Condition\n"
      ]
    },
    {
      "cell_type": "code",
      "metadata": {
        "id": "lfieTcZTpj7Q",
        "colab_type": "code",
        "colab": {}
      },
      "source": [
        ""
      ],
      "execution_count": null,
      "outputs": []
    }
  ]
}